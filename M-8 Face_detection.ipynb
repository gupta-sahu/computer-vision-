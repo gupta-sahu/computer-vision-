{
 "cells": [
  {
   "cell_type": "code",
   "execution_count": 1,
   "id": "cb72b3cd-afa1-426b-b1d0-f83c7a2ffdaf",
   "metadata": {},
   "outputs": [],
   "source": [
    "import cv2"
   ]
  },
  {
   "cell_type": "code",
   "execution_count": 3,
   "id": "4c94f6a4-1e6d-46bc-a3bb-bd3d4e87dd7f",
   "metadata": {},
   "outputs": [],
   "source": [
    "xyz=cv2.CascadeClassifier(cv2.data.haarcascades + 'haarcascade_frontalface_default.xml')"
   ]
  },
  {
   "cell_type": "code",
   "execution_count": 5,
   "id": "37b64db2-7404-4d4c-b3cf-e8eac4157850",
   "metadata": {},
   "outputs": [],
   "source": [
    "capture=cv2.VideoCapture(0)"
   ]
  },
  {
   "cell_type": "code",
   "execution_count": 7,
   "id": "dfacd368-9f7b-43d1-8720-28caa23038a0",
   "metadata": {},
   "outputs": [],
   "source": [
    "while True:\n",
    "    ret,frame=capture.read()\n",
    "    if not ret:\n",
    "        break\n",
    "    gray=cv2.cvtColor(frame,cv2.COLOR_BGR2GRAY)\n",
    "    faces=xyz.detectMultiScale(gray,scaleFactor=1.1, minNeighbors=5)\n",
    "\n",
    "    for(x,y,w,h) in faces:\n",
    "        cv2.rectangle(frame,(x,y),(x+w,y+h),(0,255,0),4)\n",
    "    cv2.imshow(\"Face detector\",frame)\n",
    "\n",
    "    if cv2.waitKey(1) & 0xFF ==ord('q'):\n",
    "        print(\"Stopped\")\n",
    "        break\n",
    "\n",
    "capture.release()\n",
    "cv2.destroyAllWindows()"
   ]
  },
  {
   "cell_type": "code",
   "execution_count": null,
   "id": "4c9634cc-d724-4dde-b94d-31bdb10af688",
   "metadata": {},
   "outputs": [],
   "source": []
  }
 ],
 "metadata": {
  "kernelspec": {
   "display_name": "Python [conda env:base] *",
   "language": "python",
   "name": "conda-base-py"
  },
  "language_info": {
   "codemirror_mode": {
    "name": "ipython",
    "version": 3
   },
   "file_extension": ".py",
   "mimetype": "text/x-python",
   "name": "python",
   "nbconvert_exporter": "python",
   "pygments_lexer": "ipython3",
   "version": "3.12.7"
  }
 },
 "nbformat": 4,
 "nbformat_minor": 5
}
