{
 "cells": [
  {
   "cell_type": "code",
   "execution_count": 1,
   "id": "3082900e-6d6b-4f0f-b825-92448476c7a9",
   "metadata": {},
   "outputs": [
    {
     "name": "stdout",
     "output_type": "stream",
     "text": [
      "Requirement already satisfied: opencv-python in c:\\users\\hp\\anaconda3\\lib\\site-packages (4.11.0.86)\n",
      "Requirement already satisfied: numpy>=1.21.2 in c:\\users\\hp\\anaconda3\\lib\\site-packages (from opencv-python) (1.26.4)\n"
     ]
    }
   ],
   "source": [
    "! pip install opencv-python"
   ]
  },
  {
   "cell_type": "code",
   "execution_count": 1,
   "id": "1c396bfb-6900-484d-8287-dc237563a7ea",
   "metadata": {},
   "outputs": [],
   "source": [
    "import cv2"
   ]
  },
  {
   "cell_type": "code",
   "execution_count": 3,
   "id": "a224b8c3-21ab-4628-a9a9-994a6d647c65",
   "metadata": {},
   "outputs": [],
   "source": [
    "xyz='image shizuka.jpg'"
   ]
  },
  {
   "cell_type": "code",
   "execution_count": 5,
   "id": "fb85b6bf-5e27-479c-ac43-f591b8547dea",
   "metadata": {},
   "outputs": [],
   "source": [
    "image=cv2.imread(xyz)"
   ]
  },
  {
   "cell_type": "code",
   "execution_count": null,
   "id": "9c327c12-c20f-49f5-8f12-19ec1b3aa074",
   "metadata": {},
   "outputs": [
    {
     "name": "stdout",
     "output_type": "stream",
     "text": [
      "Image found.\n"
     ]
    }
   ],
   "source": [
    "if image is None:\n",
    "    print(\"Image not found.\")\n",
    "else:\n",
    "    print(\"Image found.\")\n",
    "\n",
    "    cv2.imshow(\"Image:\",image) #open new window for img\n",
    "\n",
    "    cv2.waitKey(0) #wait for a key press for a specified time \n",
    "\n",
    "    cv2.destryAllwindows()"
   ]
  },
  {
   "cell_type": "code",
   "execution_count": null,
   "id": "836abc5a-0f15-4e80-88a2-34533e1a5045",
   "metadata": {},
   "outputs": [],
   "source": [
    "x=cv2.imwrite('abc.jpg',image) \n",
    "y=cv2.imwrite('xyz.jpg',image) \n",
    "z=cv2.imwrite('que.bmp',image) \n",
    "\n",
    "if x and y and z:\n",
    "    print(\"Image saved.\")\n",
    "else:\n",
    "    print(\"Error saving image\")"
   ]
  },
  {
   "cell_type": "code",
   "execution_count": null,
   "id": "cbcc3850-2118-4698-85ce-929b35245a4b",
   "metadata": {},
   "outputs": [],
   "source": []
  },
  {
   "cell_type": "code",
   "execution_count": null,
   "id": "e4eecb02-f1eb-4985-a010-fc534603ed99",
   "metadata": {},
   "outputs": [],
   "source": []
  }
 ],
 "metadata": {
  "kernelspec": {
   "display_name": "Python [conda env:base] *",
   "language": "python",
   "name": "conda-base-py"
  },
  "language_info": {
   "codemirror_mode": {
    "name": "ipython",
    "version": 3
   },
   "file_extension": ".py",
   "mimetype": "text/x-python",
   "name": "python",
   "nbconvert_exporter": "python",
   "pygments_lexer": "ipython3",
   "version": "3.12.7"
  }
 },
 "nbformat": 4,
 "nbformat_minor": 5
}
