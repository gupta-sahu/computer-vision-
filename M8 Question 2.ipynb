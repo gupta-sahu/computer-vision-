{
 "cells": [
  {
   "cell_type": "code",
   "execution_count": 10,
   "id": "194d1ae1-0635-4096-9c2b-0831291264ec",
   "metadata": {},
   "outputs": [],
   "source": [
    "import cv2\n",
    "import os"
   ]
  },
  {
   "cell_type": "code",
   "execution_count": 12,
   "id": "00b1c0fb-2d5c-4902-954d-eeb3a220739f",
   "metadata": {},
   "outputs": [],
   "source": [
    "# Set video file and output directory\n",
    "video_path = 'SampleVideo.mp4'\n",
    "output_dir = 'extracted_frames'"
   ]
  },
  {
   "cell_type": "code",
   "execution_count": 14,
   "id": "00c01bca-ee79-4c90-af79-85e764162f51",
   "metadata": {},
   "outputs": [],
   "source": [
    "# Create output directory if it doesn't exist\n",
    "os.makedirs(output_dir, exist_ok=True)"
   ]
  },
  {
   "cell_type": "code",
   "execution_count": 16,
   "id": "a04e280d-5d72-4a4f-ae60-d8f908efab19",
   "metadata": {},
   "outputs": [
    {
     "name": "stdout",
     "output_type": "stream",
     "text": [
      "Total frames saved: 739\n"
     ]
    }
   ],
   "source": [
    "# Load video\n",
    "cap = cv2.VideoCapture(video_path)\n",
    "\n",
    "if not cap.isOpened():\n",
    "    print(\"Error: Could not open video.\")\n",
    "    exit()\n",
    "\n",
    "frame_count = 0\n",
    "\n",
    "while True:\n",
    "    ret, frame = cap.read()\n",
    "    if not ret:\n",
    "        break\n",
    "\n",
    "    frame_filename = os.path.join(output_dir, f'frame_{frame_count:04d}.jpg')\n",
    "    cv2.imwrite(frame_filename, frame)\n",
    "    cv2.imshow('Video Frame', frame)\n",
    "\n",
    "    # Press 'q' to exit early\n",
    "    if cv2.waitKey(1) & 0xFF == ord('q'):\n",
    "        break\n",
    "\n",
    "    frame_count += 1\n",
    "\n",
    "print(f\"Total frames saved: {frame_count}\")\n",
    "cap.release()\n",
    "cv2.destroyAllWindows()"
   ]
  },
  {
   "cell_type": "code",
   "execution_count": null,
   "id": "3d1e73ef-31c7-410d-955e-52a679478896",
   "metadata": {},
   "outputs": [],
   "source": []
  }
 ],
 "metadata": {
  "kernelspec": {
   "display_name": "Python [conda env:base] *",
   "language": "python",
   "name": "conda-base-py"
  },
  "language_info": {
   "codemirror_mode": {
    "name": "ipython",
    "version": 3
   },
   "file_extension": ".py",
   "mimetype": "text/x-python",
   "name": "python",
   "nbconvert_exporter": "python",
   "pygments_lexer": "ipython3",
   "version": "3.12.7"
  }
 },
 "nbformat": 4,
 "nbformat_minor": 5
}
