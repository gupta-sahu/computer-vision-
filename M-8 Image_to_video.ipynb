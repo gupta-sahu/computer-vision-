{
 "cells": [
  {
   "cell_type": "code",
   "execution_count": 1,
   "id": "d98ceaa1-7a27-4c3f-b99c-ff86f6210edb",
   "metadata": {},
   "outputs": [],
   "source": [
    "import cv2\n",
    "import os\n",
    "import re"
   ]
  },
  {
   "cell_type": "code",
   "execution_count": 3,
   "id": "712854c5-5718-4490-be21-53f4286b12e4",
   "metadata": {},
   "outputs": [],
   "source": [
    "img_folder='frames'\n",
    "output_file='img_video.mp4'"
   ]
  },
  {
   "cell_type": "code",
   "execution_count": 5,
   "id": "d6a144ff-9e3d-46e4-a0c5-a34d666538bb",
   "metadata": {},
   "outputs": [],
   "source": [
    "def order (value):\n",
    "    num=re.findall(r'\\d+',value)\n",
    "    return int(num[0]) if num else -1"
   ]
  },
  {
   "cell_type": "code",
   "execution_count": 7,
   "id": "350aa8f0-7b97-41b5-a26b-eaf013d433d4",
   "metadata": {},
   "outputs": [],
   "source": [
    "images=sorted([img for img in os.listdir(img_folder) if img.endswith('.jpg')],key=order)"
   ]
  },
  {
   "cell_type": "code",
   "execution_count": 9,
   "id": "5711602b-75cc-46fd-99d5-bc53df51f29f",
   "metadata": {},
   "outputs": [],
   "source": [
    "framesize=cv2.imread(os.path.join(img_folder,images[0]))\n",
    "height,width,_=framesize.shape"
   ]
  },
  {
   "cell_type": "code",
   "execution_count": 11,
   "id": "8b81eb5d-f60b-417c-a71c-4facbc1abb1b",
   "metadata": {},
   "outputs": [],
   "source": [
    "converter=cv2.VideoWriter_fourcc(*'mp4v')\n",
    "fps=30\n",
    "abc=cv2.VideoWriter(output_file,converter,fps,(height,width))"
   ]
  },
  {
   "cell_type": "code",
   "execution_count": 13,
   "id": "b4ce6aff-9cf3-4c6f-a67a-b25a2b410788",
   "metadata": {},
   "outputs": [
    {
     "name": "stdout",
     "output_type": "stream",
     "text": [
      "Video Savedimg_video.mp4\n"
     ]
    }
   ],
   "source": [
    "for images in images:\n",
    "    path=os.path.join(img_folder)\n",
    "    frame=cv2.imread(path)\n",
    "    abc.write(frame)\n",
    "\n",
    "abc.release()\n",
    "print(f\"Video Saved{output_file}\")"
   ]
  },
  {
   "cell_type": "code",
   "execution_count": null,
   "id": "2235c591-10f4-44e5-a760-01a223a2cac7",
   "metadata": {},
   "outputs": [],
   "source": []
  }
 ],
 "metadata": {
  "kernelspec": {
   "display_name": "Python [conda env:base] *",
   "language": "python",
   "name": "conda-base-py"
  },
  "language_info": {
   "codemirror_mode": {
    "name": "ipython",
    "version": 3
   },
   "file_extension": ".py",
   "mimetype": "text/x-python",
   "name": "python",
   "nbconvert_exporter": "python",
   "pygments_lexer": "ipython3",
   "version": "3.12.7"
  }
 },
 "nbformat": 4,
 "nbformat_minor": 5
}
