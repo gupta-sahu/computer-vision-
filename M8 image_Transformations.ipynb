{
 "cells": [
  {
   "cell_type": "code",
   "execution_count": null,
   "id": "eb9c5711-88d5-4b38-8ab7-1e4c00460fe5",
   "metadata": {},
   "outputs": [],
   "source": [
    "# Resizing Image\n",
    "import cv2\n",
    "image = cv2.imread(\"frok.jpg\")\n",
    "resized_image = cv2.resize(image,(500,300))\n",
    "cv2.imwrite(\"resizd_image.jpg\",resized_image)\n",
    "cv2.imshow(\"Resized image\",resized_image)\n",
    "cv2.waitKey(0)\n",
    "cv2.destroyAllWindows()"
   ]
  },
  {
   "cell_type": "code",
   "execution_count": null,
   "id": "c1698380-fef9-4382-99f8-2b8ea8228dca",
   "metadata": {},
   "outputs": [],
   "source": [
    "# Rotating Image\n",
    "import cv2\n",
    "image = cv2.imread(\"frok.jpg\")\n",
    "(h, w) = image.shape[:2]\n",
    "center = (w // 2, h // 2) # Centre point for rotation\n",
    "rotation_matrix = cv2.getRotationMatrix2D(center, 45, 1.0) # 1.0 = no scaling\n",
    "rotated_image = cv2.warpAffine(image, rotation_matrix, (w, h))\n",
    "cv2.imwrite(\"rotated_image.jpg\",rotated_image)\n",
    "cv2.imshow(\"Rotatedd image\",rotated_image)\n",
    "cv2.waitKey(0)\n",
    "cv2.destroyAllWindows()"
   ]
  },
  {
   "cell_type": "code",
   "execution_count": null,
   "id": "d30f3141-5a95-411e-afe7-31493928252b",
   "metadata": {},
   "outputs": [],
   "source": [
    "# Flipping images\n",
    "import cv2\n",
    "image = cv2.imread(\"frok.jpg\")\n",
    "flipped_horizontally = cv2.flip(image, 1)\n",
    "flipped_vertically = cv2.flip(image, 0)\n",
    "flipped_both = cv2.flip(image, -1)\n",
    "cv2.imwrite(\"flipped_horizontal.jpg\", flipped_horizontally)\n",
    "cv2.imwrite(\"flipped_vertical.jpg\", flipped_vertically)\n",
    "cv2.imwrite(\"flipped_both.jpg\", flipped_both)\n",
    "cv2.imshow(\"Flipped Horizontally\", flipped_horizontally)\n",
    "cv2.imshow(\"Flipped Vertically\", flipped_vertically)\n",
    "cv2.imshow(\"Flipped Both\", flipped_both)\n",
    "cv2.waitKey(0)\n",
    "cv2.destroyAllWindows()"
   ]
  },
  {
   "cell_type": "code",
   "execution_count": null,
   "id": "ce820c29-2279-4f1e-8eaf-a8e2c3aba3ad",
   "metadata": {},
   "outputs": [],
   "source": [
    "# Cropping images\n",
    "import cv2\n",
    "image = cv2.imread(\"frok.jpg\")\n",
    "cropped_image = image[50:250, 100:400]\n",
    "cv2.imwrite(\"cropped_image.jpg\", cropped_image)\n",
    "cv2.imshow(\"Cropped Image\", cropped_image)\n",
    "cv2.waitKey(0)\n",
    "cv2.destroyAllWindows()"
   ]
  },
  {
   "cell_type": "code",
   "execution_count": null,
   "id": "7b6f39b9-4163-4b00-b836-bc5fb5570ef7",
   "metadata": {},
   "outputs": [],
   "source": []
  }
 ],
 "metadata": {
  "kernelspec": {
   "display_name": "Python [conda env:base] *",
   "language": "python",
   "name": "conda-base-py"
  },
  "language_info": {
   "codemirror_mode": {
    "name": "ipython",
    "version": 3
   },
   "file_extension": ".py",
   "mimetype": "text/x-python",
   "name": "python",
   "nbconvert_exporter": "python",
   "pygments_lexer": "ipython3",
   "version": "3.12.7"
  }
 },
 "nbformat": 4,
 "nbformat_minor": 5
}
