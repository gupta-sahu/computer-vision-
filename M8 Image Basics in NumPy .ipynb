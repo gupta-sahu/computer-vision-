{
 "cells": [
  {
   "cell_type": "code",
   "execution_count": 1,
   "id": "f06c1427-4de9-43e7-8193-939176e2595d",
   "metadata": {},
   "outputs": [
    {
     "name": "stdout",
     "output_type": "stream",
     "text": [
      "Image shape: (246, 205, 3)\n",
      "Pixel value (BGR) at (100, 50): [ 97 125 172]\n"
     ]
    }
   ],
   "source": [
    "import cv2\n",
    "image = cv2.imread(\"face.jpg\")\n",
    "print(\"Image shape:\", image.shape) # e.g., (height, width, 3)\n",
    "pixel = image[100, 50]\n",
    "print(\"Pixel value (BGR) at (100, 50):\", pixel)"
   ]
  },
  {
   "cell_type": "code",
   "execution_count": 5,
   "id": "1d787aab-7be9-4ed7-96e8-e9a2036880f5",
   "metadata": {},
   "outputs": [
    {
     "name": "stdout",
     "output_type": "stream",
     "text": [
      "Image shape: (246, 205, 3)\n",
      "Image array:\n",
      " [[[255 255 255]\n",
      "  [255 255 255]\n",
      "  [255 255 255]\n",
      "  ...\n",
      "  [255 255 255]\n",
      "  [255 255 255]\n",
      "  [255 255 255]]\n",
      "\n",
      " [[255 255 255]\n",
      "  [255 255 255]\n",
      "  [255 255 255]\n",
      "  ...\n",
      "  [255 255 255]\n",
      "  [255 255 255]\n",
      "  [255 255 255]]\n",
      "\n",
      " [[255 255 255]\n",
      "  [255 255 255]\n",
      "  [255 255 255]\n",
      "  ...\n",
      "  [255 255 255]\n",
      "  [255 255 255]\n",
      "  [255 255 255]]\n",
      "\n",
      " ...\n",
      "\n",
      " [[255 255 255]\n",
      "  [255 255 255]\n",
      "  [255 255 255]\n",
      "  ...\n",
      "  [255 255 255]\n",
      "  [255 255 255]\n",
      "  [255 255 255]]\n",
      "\n",
      " [[255 255 255]\n",
      "  [255 255 255]\n",
      "  [255 255 255]\n",
      "  ...\n",
      "  [255 255 255]\n",
      "  [255 255 255]\n",
      "  [255 255 255]]\n",
      "\n",
      " [[255 255 255]\n",
      "  [255 255 255]\n",
      "  [255 255 255]\n",
      "  ...\n",
      "  [255 255 255]\n",
      "  [255 255 255]\n",
      "  [255 255 255]]]\n"
     ]
    }
   ],
   "source": [
    "\n",
    "image = cv2.imread(\"face.jpg\")\n",
    "print(\"Image shape:\", image.shape)\n",
    "print(\"Image array:\\n\", image)"
   ]
  },
  {
   "cell_type": "code",
   "execution_count": null,
   "id": "e77ce4e6-9f08-425b-b680-6184fa487580",
   "metadata": {},
   "outputs": [
    {
     "name": "stdout",
     "output_type": "stream",
     "text": [
      "Blue channel shape: (246, 205)\n",
      "Green channel shape: (246, 205)\n",
      "Red channel shape: (246, 205)\n"
     ]
    }
   ],
   "source": [
    "# Splitting and merging channels\n",
    "image = cv2.imread(\"face.jpg\")\n",
    "b_channel, g_channel, r_channel = cv2.split(image)\n",
    "print(\"Blue channel shape:\", b_channel.shape)\n",
    "print(\"Green channel shape:\", g_channel.shape)\n",
    "print(\"Red channel shape:\", r_channel.shape)\n",
    "merged_image = cv2.merge([b_channel, g_channel, r_channel])\n",
    "cv2.imwrite(\"merged_image.jpg\", merged_image)\n",
    "cv2.imshow(\"Merged Image\", merged_image)\n",
    "cv2.waitKey(0)\n",
    "cv2.destroyAllWindows()"
   ]
  },
  {
   "cell_type": "code",
   "execution_count": null,
   "id": "d70058f6-85d0-4808-b00e-453ad9790fac",
   "metadata": {},
   "outputs": [],
   "source": [
    "# Accessing pixel values\n",
    "import cv2\n",
    "image = cv2.imread(\"face.jpg\")\n",
    "pixel = image[100, 50]\n",
    "print(\"Pixel value at (100, 50):\", pixel) # Output: [B, G, R]\n",
    "blue = image[100, 50, 0]\n",
    "green = image[100, 50, 1]\n",
    "red = image[100, 50, 2]\n",
    "print(f\"Blue: {blue}, Green: {green}, Red: {red}\")\n"
   ]
  },
  {
   "cell_type": "code",
   "execution_count": null,
   "id": "0172b2a4-c9ee-402f-80b7-3cad17445494",
   "metadata": {},
   "outputs": [],
   "source": [
    "# Modifying image pixels\n",
    "import cv2\n",
    "image = cv2.imread(\"face.jpg\")\n",
    "image[100, 50] = [0, 0, 255] # [Blue, Green, Red]\n",
    "image[50:100, 100:200] = [255, 255, 255]\n",
    "cv2.imwrite(\"modified_image.jpg\", image)\n",
    "cv2.imshow(\"Modified Image\", image)\n",
    "cv2.waitKey(0)\n",
    "cv2.destroyAllWindows()"
   ]
  },
  {
   "cell_type": "code",
   "execution_count": null,
   "id": "97817bf0-6469-4e8f-bdaa-387876212aad",
   "metadata": {},
   "outputs": [],
   "source": []
  }
 ],
 "metadata": {
  "kernelspec": {
   "display_name": "Python [conda env:base] *",
   "language": "python",
   "name": "conda-base-py"
  },
  "language_info": {
   "codemirror_mode": {
    "name": "ipython",
    "version": 3
   },
   "file_extension": ".py",
   "mimetype": "text/x-python",
   "name": "python",
   "nbconvert_exporter": "python",
   "pygments_lexer": "ipython3",
   "version": "3.12.7"
  }
 },
 "nbformat": 4,
 "nbformat_minor": 5
}
