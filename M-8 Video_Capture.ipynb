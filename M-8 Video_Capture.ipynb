{
 "cells": [
  {
   "cell_type": "code",
   "execution_count": 9,
   "id": "7baec16f-6051-4ca2-a0ad-c469c41f29a8",
   "metadata": {},
   "outputs": [],
   "source": [
    "import cv2\n",
    "import os"
   ]
  },
  {
   "cell_type": "code",
   "execution_count": 3,
   "id": "7854d5ce-e251-4146-ac20-fbfd503a570f",
   "metadata": {},
   "outputs": [],
   "source": [
    "vid='VIDEO.mp4'\n",
    "abc=cv2.VideoCapture(vid)"
   ]
  },
  {
   "cell_type": "code",
   "execution_count": 5,
   "id": "6f6c3048-1cd0-4f6c-a2b9-e22a1495e957",
   "metadata": {},
   "outputs": [
    {
     "name": "stdout",
     "output_type": "stream",
     "text": [
      "Video Found.\n"
     ]
    }
   ],
   "source": [
    "if not abc.isOpened():\n",
    "    print(\"Video not found\")\n",
    "\n",
    "else:\n",
    "    print(\"Video Found.\")"
   ]
  },
  {
   "cell_type": "code",
   "execution_count": 7,
   "id": "e4341c6f-2d0a-423a-9d4a-b04200751915",
   "metadata": {},
   "outputs": [
    {
     "name": "stdout",
     "output_type": "stream",
     "text": [
      "Can't read the file\n"
     ]
    },
    {
     "ename": "error",
     "evalue": "OpenCV(4.11.0) D:\\a\\opencv-python\\opencv-python\\opencv\\modules\\highgui\\src\\window.cpp:973: error: (-215:Assertion failed) size.width>0 && size.height>0 in function 'cv::imshow'\n",
     "output_type": "error",
     "traceback": [
      "\u001b[1;31m---------------------------------------------------------------------------\u001b[0m",
      "\u001b[1;31merror\u001b[0m                                     Traceback (most recent call last)",
      "Cell \u001b[1;32mIn[7], line 5\u001b[0m\n\u001b[0;32m      3\u001b[0m \u001b[38;5;28;01mif\u001b[39;00m \u001b[38;5;129;01mnot\u001b[39;00m ret:\n\u001b[0;32m      4\u001b[0m     \u001b[38;5;28mprint\u001b[39m(\u001b[38;5;124m\"\u001b[39m\u001b[38;5;124mCan\u001b[39m\u001b[38;5;124m'\u001b[39m\u001b[38;5;124mt read the file\u001b[39m\u001b[38;5;124m\"\u001b[39m)\n\u001b[1;32m----> 5\u001b[0m cv2\u001b[38;5;241m.\u001b[39mimshow(\u001b[38;5;124m\"\u001b[39m\u001b[38;5;124mVideo Playing\u001b[39m\u001b[38;5;124m\"\u001b[39m,frame)\n\u001b[0;32m      7\u001b[0m \u001b[38;5;28;01mif\u001b[39;00m cv2\u001b[38;5;241m.\u001b[39mwaitKey(\u001b[38;5;241m25\u001b[39m) \u001b[38;5;241m&\u001b[39m \u001b[38;5;241m0xFF\u001b[39m \u001b[38;5;241m==\u001b[39m\u001b[38;5;28mord\u001b[39m(\u001b[38;5;124m'\u001b[39m\u001b[38;5;124mq\u001b[39m\u001b[38;5;124m'\u001b[39m):\n\u001b[0;32m      8\u001b[0m     \u001b[38;5;28mprint\u001b[39m(\u001b[38;5;124m\"\u001b[39m\u001b[38;5;124mStopped\u001b[39m\u001b[38;5;124m\"\u001b[39m)\n",
      "\u001b[1;31merror\u001b[0m: OpenCV(4.11.0) D:\\a\\opencv-python\\opencv-python\\opencv\\modules\\highgui\\src\\window.cpp:973: error: (-215:Assertion failed) size.width>0 && size.height>0 in function 'cv::imshow'\n"
     ]
    }
   ],
   "source": [
    "while abc.isOpened():\n",
    "    ret, frame=abc.read()\n",
    "    if not ret:\n",
    "        print(\"Can't read the file\")\n",
    "    cv2.imshow(\"Video Playing\",frame)\n",
    "    \n",
    "    if cv2.waitKey(25) & 0xFF ==ord('q'):\n",
    "        print(\"Stopped\")\n",
    "        break\n",
    "    #import time\n",
    "    #time.sleep(0.025)\n",
    "\n",
    "\n",
    "abc.release()\n",
    "cv2.destroyAllWindow()"
   ]
  },
  {
   "cell_type": "code",
   "execution_count": null,
   "id": "3f82f547-d0b6-4e62-8439-f4e6f1328dc3",
   "metadata": {},
   "outputs": [],
   "source": [
    "# read the details of video\n"
   ]
  },
  {
   "cell_type": "code",
   "execution_count": null,
   "id": "4b01ac82-8781-4c30-9b2a-0c4cf1c776e1",
   "metadata": {},
   "outputs": [],
   "source": [
    "import cv2"
   ]
  },
  {
   "cell_type": "code",
   "execution_count": null,
   "id": "b4a184e0-0959-4f33-a13a-ba1052e3ba9c",
   "metadata": {},
   "outputs": [],
   "source": [
    "vid='video.mp4'\n",
    "xyz=cv2.VideoCapture(vid)"
   ]
  },
  {
   "cell_type": "code",
   "execution_count": null,
   "id": "239bbfe6-8363-4df5-ba87-0d8b47ed8fb7",
   "metadata": {},
   "outputs": [],
   "source": [
    "if not xyz.isOpened():\n",
    "    print(\"Error loading video\")\n",
    "    exit()"
   ]
  },
  {
   "cell_type": "code",
   "execution_count": null,
   "id": "cba88871-3003-42f1-876d-da6d3f5f33e6",
   "metadata": {},
   "outputs": [],
   "source": [
    "fps=xyz.get(cv2.CAP_PROP_FPS)\n",
    "total_fps=int(xyz.get(cv2.CAP_PROP_FRAME_COUNT))\n",
    "wid=int(xyz.get(cv2.CAP_PROP_FRAME_WIDTH))\n",
    "height=int(xyz.get(cv2.CAP_PROP_FRAME_HEIGHT))\n",
    "duration=total_fps/fps"
   ]
  },
  {
   "cell_type": "code",
   "execution_count": null,
   "id": "7dba8e25-7dc0-4241-beb1-3284a775ce65",
   "metadata": {},
   "outputs": [],
   "source": [
    "print(fps)\n",
    "print(total_fps)\n",
    "print(wid)\n",
    "print(height)\n",
    "print(duration)"
   ]
  },
  {
   "cell_type": "code",
   "execution_count": null,
   "id": "41e0bc0a-2679-4a5a-b2f9-bf0ebc96647b",
   "metadata": {},
   "outputs": [],
   "source": []
  },
  {
   "cell_type": "code",
   "execution_count": 29,
   "id": "18726467-7afd-4388-9e6f-b0da74b9c5ba",
   "metadata": {},
   "outputs": [],
   "source": [
    "#folder Create\n",
    "output='Frames'\n",
    "os.makedirs(output,exist_ok=True)"
   ]
  },
  {
   "cell_type": "code",
   "execution_count": 31,
   "id": "2b8d410d-00fe-4822-a31d-71ad9b0c7ccd",
   "metadata": {},
   "outputs": [
    {
     "name": "stdout",
     "output_type": "stream",
     "text": [
      "C:\\Users\\HP\n"
     ]
    }
   ],
   "source": [
    "print(os.getcwd())"
   ]
  },
  {
   "cell_type": "code",
   "execution_count": 33,
   "id": "1f681060-82b8-459e-8958-dc40d330e817",
   "metadata": {},
   "outputs": [],
   "source": [
    "#Store frame in folder"
   ]
  },
  {
   "cell_type": "code",
   "execution_count": 35,
   "id": "50102eb2-ce2b-4296-a0c5-21f4146dcd40",
   "metadata": {},
   "outputs": [],
   "source": [
    "import cv2"
   ]
  },
  {
   "cell_type": "code",
   "execution_count": 37,
   "id": "699a9e9c-b94b-427f-afa0-b7d579dadfbb",
   "metadata": {},
   "outputs": [],
   "source": [
    "vid=cv2.VideoCapture('video.mp4')\n",
    "if not vid.isOpened():\n",
    "    print(\"Can't open file\")\n",
    "    exit()"
   ]
  },
  {
   "cell_type": "code",
   "execution_count": 39,
   "id": "b4e5edc7-0641-45d9-9c18-232d4598bd39",
   "metadata": {},
   "outputs": [],
   "source": [
    "fn=0\n",
    "max_fn=None"
   ]
  },
  {
   "cell_type": "code",
   "execution_count": 41,
   "id": "2f233cf8-5d22-4c58-9b49-9262d80d865e",
   "metadata": {},
   "outputs": [
    {
     "name": "stdout",
     "output_type": "stream",
     "text": [
      "Saved Frames\\frame_1737.jpg\n",
      " 1738 saved in folder: Frames\n"
     ]
    }
   ],
   "source": [
    "while True:\n",
    "    ret,frame=vid.read()\n",
    "    if not ret:\n",
    "        break\n",
    "    file=os.path.join(output,f'frame_{fn:04d}.jpg')\n",
    "    cv2.imwrite(file,frame)\n",
    "    print(f'Saved {file}',end='\\r')\n",
    "\n",
    "    fn+=1\n",
    "    if max_fn and fn >max_fn:\n",
    "        break\n",
    "    \n",
    "\n",
    "vid.release()\n",
    "print(f'\\n {fn} saved in folder: {output}')"
   ]
  },
  {
   "cell_type": "code",
   "execution_count": null,
   "id": "5e36a4f7-6a96-466a-8cf1-7b16c62f846b",
   "metadata": {},
   "outputs": [],
   "source": []
  }
 ],
 "metadata": {
  "kernelspec": {
   "display_name": "Python [conda env:base] *",
   "language": "python",
   "name": "conda-base-py"
  },
  "language_info": {
   "codemirror_mode": {
    "name": "ipython",
    "version": 3
   },
   "file_extension": ".py",
   "mimetype": "text/x-python",
   "name": "python",
   "nbconvert_exporter": "python",
   "pygments_lexer": "ipython3",
   "version": "3.12.7"
  }
 },
 "nbformat": 4,
 "nbformat_minor": 5
}
